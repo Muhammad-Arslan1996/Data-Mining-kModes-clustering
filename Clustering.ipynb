{
 "cells": [
  {
   "cell_type": "code",
   "execution_count": 109,
   "metadata": {},
   "outputs": [],
   "source": [
    "%config IPCompleter.greedy=True\n",
    "import pandas as pd\n",
    "import numpy as np\n",
    "from random import randrange\n",
    "import math"
   ]
  },
  {
   "cell_type": "code",
   "execution_count": 110,
   "metadata": {},
   "outputs": [],
   "source": [
    "data = pd.read_csv('agaricus-lepiota.data')"
   ]
  },
  {
   "cell_type": "code",
   "execution_count": 173,
   "metadata": {},
   "outputs": [],
   "source": [
    "def hamming_distance(row, cluster_modes):\n",
    "    distances = np.array([])\n",
    "    for cluster_mode in cluster_modes:\n",
    "        distances = np.append(distances, row.eq(cluster_mode).value_counts().get(False, 0))\n",
    "    print(distances)\n",
    "    print(np.argmin(distances))"
   ]
  },
  {
   "cell_type": "code",
   "execution_count": 174,
   "metadata": {},
   "outputs": [],
   "source": [
    "def k_mode_clustering(data, number_of_clusters):\n",
    "    cluster_centroids = []\n",
    "    clusters = {}\n",
    "    for i in range(number_of_clusters):\n",
    "        rand_index = randrange(len(data))\n",
    "        cluster_centroids.append(data.loc[rand_index])\n",
    "    data.apply(hamming_distance, args=[cluster_centroids], axis=1)\n",
    "    "
   ]
  },
  {
   "cell_type": "code",
   "execution_count": null,
   "metadata": {},
   "outputs": [],
   "source": [
    "k_mode_clustering(data.head(20),4)"
   ]
  }
 ],
 "metadata": {
  "kernelspec": {
   "display_name": "Python 3",
   "language": "python",
   "name": "python3"
  },
  "language_info": {
   "codemirror_mode": {
    "name": "ipython",
    "version": 3
   },
   "file_extension": ".py",
   "mimetype": "text/x-python",
   "name": "python",
   "nbconvert_exporter": "python",
   "pygments_lexer": "ipython3",
   "version": "3.7.4"
  }
 },
 "nbformat": 4,
 "nbformat_minor": 4
}
