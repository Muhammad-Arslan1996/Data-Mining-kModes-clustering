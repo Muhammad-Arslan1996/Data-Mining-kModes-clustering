{
 "cells": [
  {
   "cell_type": "code",
   "execution_count": 1,
   "metadata": {},
   "outputs": [],
   "source": [
    "%config IPCompleter.greedy=True\n",
    "import pandas as pd\n",
    "import numpy as np\n",
    "from random import choice\n",
    "import math"
   ]
  },
  {
   "cell_type": "code",
   "execution_count": 2,
   "metadata": {},
   "outputs": [],
   "source": [
    "data = pd.read_csv('agaricus-lepiota.data')"
   ]
  },
  {
   "cell_type": "code",
   "execution_count": 3,
   "metadata": {},
   "outputs": [],
   "source": [
    "def hamming_distance_and_choose_cluster(row, cluster_modes):\n",
    "    distances = np.array([])\n",
    "    for cluster_mode in cluster_modes:\n",
    "        distances = np.append(distances, row.eq(cluster_mode).value_counts().get(False, 0))\n",
    "    return np.argmin(distances)"
   ]
  },
  {
   "cell_type": "code",
   "execution_count": 4,
   "metadata": {},
   "outputs": [],
   "source": [
    "#calculate cluster modes after cluster assignment\n",
    "def calculate_cluster_modes(data, number_of_clusters):\n",
    "    cluster_modes = []\n",
    "    for i in range(number_of_clusters):\n",
    "        mode = data[data['cluster'] == i].mode()\n",
    "        mode.drop('cluster', 1, inplace=True, errors='ignore')\n",
    "        cluster_modes.append(mode.loc[0])\n",
    "    return cluster_modes\n",
    "    "
   ]
  },
  {
   "cell_type": "code",
   "execution_count": 5,
   "metadata": {},
   "outputs": [],
   "source": [
    "#for termination condition\n",
    "def cluster_sets_are_equal(cluster_modes, new_cluster_modes):\n",
    "    if(len(cluster_modes) != len(new_cluster_modes)):\n",
    "        return False\n",
    "    for i in range(len(cluster_modes)):\n",
    "        if not cluster_modes[i].equals(new_cluster_modes[i]):\n",
    "            return False\n",
    "    return True "
   ]
  },
  {
   "cell_type": "code",
   "execution_count": 7,
   "metadata": {},
   "outputs": [],
   "source": [
    "def k_mode_clustering(data, number_of_clusters):\n",
    "    cluster_centroids = []\n",
    "    already_chosen_clusters = []\n",
    "    clusters = {}\n",
    "    df_with_cluster = data.copy()\n",
    "    df_with_cluster.drop('p', 1, inplace=True)\n",
    "    \n",
    "    #for random centroids, remove the rows with missing values\n",
    "    data_without_missing_values = df_with_cluster[df_with_cluster['e.1'] != '?']\n",
    "    \n",
    "    #chose random centroids\n",
    "    rows = len(data_without_missing_values)\n",
    "    for i in range(number_of_clusters):\n",
    "        rand_index = choice([i for i in range(rows) if i not in already_chosen_clusters])\n",
    "        already_chosen_clusters.append(rand_index)\n",
    "        cluster_centroids.append(data.loc[rand_index])\n",
    "    new_cluster_centroids = []\n",
    "    \n",
    "    iteration = 0\n",
    "    while not cluster_sets_are_equal(cluster_centroids, new_cluster_centroids):\n",
    "        print('On iteration number: {}'.format(iteration))\n",
    "        new_cluster_centroids = cluster_centroids\n",
    "        df_with_cluster.drop('cluster', 1, inplace=True, errors='ignore')\n",
    "        df_with_cluster['cluster'] = df_with_cluster.apply(hamming_distance_and_choose_cluster, args=[new_cluster_centroids], axis=1)\n",
    "        cluster_centroids = calculate_cluster_modes(df_with_cluster, number_of_clusters)\n",
    "        \n",
    "        if(iteration == 0):\n",
    "            for i, ri in enumerate(already_chosen_clusters):\n",
    "                mask = (df_with_cluster['e.1'] == '?') & (df_with_cluster['cluster'] == i)\n",
    "                df_with_cluster.loc[mask, 'e.1'] = df_with_cluster.loc[ri]['e.1']\n",
    "            \n",
    "        print(len(df_with_cluster))\n",
    "        iteration += 1\n",
    "\n",
    "    df_with_cluster.to_csv('prediction.csv')\n",
    "    return df_with_cluster"
   ]
  },
  {
   "cell_type": "code",
   "execution_count": 8,
   "metadata": {},
   "outputs": [
    {
     "name": "stdout",
     "output_type": "stream",
     "text": [
      "On iteration number: 0\n",
      "8123\n",
      "On iteration number: 1\n",
      "8123\n",
      "On iteration number: 2\n",
      "8123\n",
      "On iteration number: 3\n",
      "8123\n",
      "On iteration number: 4\n",
      "8123\n"
     ]
    }
   ],
   "source": [
    "res = k_mode_clustering(data, 10)"
   ]
  },
  {
   "cell_type": "code",
   "execution_count": 10,
   "metadata": {},
   "outputs": [
    {
     "data": {
      "text/plain": [
       "array(['c', 'e', 'b', 'r', '?'], dtype=object)"
      ]
     },
     "execution_count": 10,
     "metadata": {},
     "output_type": "execute_result"
    }
   ],
   "source": [
    "res['e.1'].unique()"
   ]
  }
 ],
 "metadata": {
  "kernelspec": {
   "display_name": "Python 3",
   "language": "python",
   "name": "python3"
  },
  "language_info": {
   "codemirror_mode": {
    "name": "ipython",
    "version": 3
   },
   "file_extension": ".py",
   "mimetype": "text/x-python",
   "name": "python",
   "nbconvert_exporter": "python",
   "pygments_lexer": "ipython3",
   "version": "3.7.4"
  }
 },
 "nbformat": 4,
 "nbformat_minor": 4
}
